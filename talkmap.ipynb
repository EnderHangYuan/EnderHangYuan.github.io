{
 "cells": [
  {
   "cell_type": "markdown",
   "metadata": {},
   "source": [
    "# Leaflet cluster map of talk locations\n",
    "\n",
    "Run this from the _talks/ directory, which contains .md files of all your talks. This scrapes the location YAML field from each .md file, geolocates it with geopy/Nominatim, and uses the getorg library to output data, HTML, and Javascript for a standalone cluster map."
   ]
  },
  {
   "cell_type": "code",
   "execution_count": 1,
   "metadata": {},
   "outputs": [
    {
     "name": "stdout",
     "output_type": "stream",
     "text": [
      "Requirement already satisfied: getorg in /Library/Frameworks/Python.framework/Versions/3.7/lib/python3.7/site-packages (0.3.1)\n",
      "Requirement already satisfied: python-frontmatter in /Library/Frameworks/Python.framework/Versions/3.7/lib/python3.7/site-packages (0.4.5)\n",
      "Requirement already satisfied: retrying in /Library/Frameworks/Python.framework/Versions/3.7/lib/python3.7/site-packages (from getorg) (1.3.3)\n",
      "Requirement already satisfied: pygithub in /Library/Frameworks/Python.framework/Versions/3.7/lib/python3.7/site-packages (from getorg) (1.43.8)\n",
      "Requirement already satisfied: geopy in /Library/Frameworks/Python.framework/Versions/3.7/lib/python3.7/site-packages (from getorg) (1.20.0)\n",
      "Requirement already satisfied: six in /Users/agbeltran/Library/Python/3.7/lib/python/site-packages (from python-frontmatter) (1.12.0)\n",
      "Requirement already satisfied: PyYAML in /Users/agbeltran/Library/Python/3.7/lib/python/site-packages (from python-frontmatter) (5.1.1)\n",
      "Requirement already satisfied: deprecated in /Library/Frameworks/Python.framework/Versions/3.7/lib/python3.7/site-packages (from pygithub->getorg) (1.2.6)\n",
      "Requirement already satisfied: pyjwt in /Library/Frameworks/Python.framework/Versions/3.7/lib/python3.7/site-packages (from pygithub->getorg) (1.7.1)\n",
      "Requirement already satisfied: requests>=2.14.0 in /Library/Frameworks/Python.framework/Versions/3.7/lib/python3.7/site-packages (from pygithub->getorg) (2.22.0)\n",
      "Requirement already satisfied: geographiclib<2,>=1.49 in /Library/Frameworks/Python.framework/Versions/3.7/lib/python3.7/site-packages (from geopy->getorg) (1.49)\n",
      "Requirement already satisfied: wrapt<2,>=1.10 in /Library/Frameworks/Python.framework/Versions/3.7/lib/python3.7/site-packages (from deprecated->pygithub->getorg) (1.11.2)\n",
      "Requirement already satisfied: certifi>=2017.4.17 in /Library/Frameworks/Python.framework/Versions/3.7/lib/python3.7/site-packages (from requests>=2.14.0->pygithub->getorg) (2019.6.16)\n",
      "Requirement already satisfied: chardet<3.1.0,>=3.0.2 in /Library/Frameworks/Python.framework/Versions/3.7/lib/python3.7/site-packages (from requests>=2.14.0->pygithub->getorg) (3.0.4)\n",
      "Requirement already satisfied: idna<2.9,>=2.5 in /Library/Frameworks/Python.framework/Versions/3.7/lib/python3.7/site-packages (from requests>=2.14.0->pygithub->getorg) (2.8)\n",
      "Requirement already satisfied: urllib3!=1.25.0,!=1.25.1,<1.26,>=1.21.1 in /Library/Frameworks/Python.framework/Versions/3.7/lib/python3.7/site-packages (from requests>=2.14.0->pygithub->getorg) (1.25.3)\n"
     ]
    }
   ],
   "source": [
    "!pip install getorg python-frontmatter\n"
   ]
  },
  {
   "cell_type": "code",
   "execution_count": 2,
   "metadata": {},
   "outputs": [
    {
     "name": "stdout",
     "output_type": "stream",
     "text": [
      "IPywidgets and ipyleaflet support enabled.\n"
     ]
    }
   ],
   "source": [
    "import glob\n",
    "import getorg\n",
    "from geopy import Nominatim\n",
    "import frontmatter"
   ]
  },
  {
   "cell_type": "code",
   "execution_count": 3,
   "metadata": {},
   "outputs": [],
   "source": [
    "g = glob.glob(\"_talks/*.md\")"
   ]
  },
  {
   "cell_type": "code",
   "execution_count": 4,
   "metadata": {},
   "outputs": [
    {
     "name": "stderr",
     "output_type": "stream",
     "text": [
      "/Library/Frameworks/Python.framework/Versions/3.7/lib/python3.7/site-packages/ipykernel_launcher.py:1: DeprecationWarning: Using Nominatim with the default \"geopy/1.20.0\" `user_agent` is strongly discouraged, as it violates Nominatim's ToS https://operations.osmfoundation.org/policies/nominatim/ and may possibly cause 403 and 429 HTTP errors. Please specify a custom `user_agent` with `Nominatim(user_agent=\"my-application\")` or by overriding the default `user_agent`: `geopy.geocoders.options.default_user_agent = \"my-application\"`. In geopy 2.0 this will become an exception.\n",
      "  \"\"\"Entry point for launching an IPython kernel.\n"
     ]
    }
   ],
   "source": [
    "geocoder = Nominatim()\n",
    "location_dict = {}\n",
    "location = \"\"\n",
    "permalink = \"\"\n",
    "title = \"\""
   ]
  },
  {
   "cell_type": "code",
   "execution_count": 5,
   "metadata": {},
   "outputs": [
    {
     "ename": "NameError",
     "evalue": "name 'file' is not defined",
     "output_type": "error",
     "traceback": [
      "\u001b[0;31m---------------------------------------------------------------------------\u001b[0m",
      "\u001b[0;31mNameError\u001b[0m                                 Traceback (most recent call last)",
      "\u001b[0;32m<ipython-input-5-d1e6ea5a2260>\u001b[0m in \u001b[0;36m<module>\u001b[0;34m\u001b[0m\n\u001b[0;32m----> 1\u001b[0;31m \u001b[0ma\u001b[0m \u001b[0;34m=\u001b[0m \u001b[0mfrontmatter\u001b[0m\u001b[0;34m.\u001b[0m\u001b[0mload\u001b[0m\u001b[0;34m(\u001b[0m\u001b[0mfile\u001b[0m\u001b[0;34m)\u001b[0m\u001b[0;34m\u001b[0m\u001b[0;34m\u001b[0m\u001b[0m\n\u001b[0m\u001b[1;32m      2\u001b[0m \u001b[0ma\u001b[0m\u001b[0;34m.\u001b[0m\u001b[0mto_dict\u001b[0m\u001b[0;34m(\u001b[0m\u001b[0;34m)\u001b[0m\u001b[0;34m\u001b[0m\u001b[0;34m\u001b[0m\u001b[0m\n",
      "\u001b[0;31mNameError\u001b[0m: name 'file' is not defined"
     ]
    }
   ],
   "source": [
    "a = frontmatter.load(file)\n",
    "a.to_dict()"
   ]
  },
  {
   "cell_type": "code",
   "execution_count": 7,
   "metadata": {},
   "outputs": [
    {
     "name": "stdout",
     "output_type": "stream",
     "text": [
      "{'London, UK | RSLondonSouthEast19 | Machine-Actionable Metadata Models: a toolbox including JSONLDSchema python module and JSONschema-documenter web application': Location(London, Greater London, England, UK, (51.4893335, -0.144055084527687, 0.0))}\n",
      "London, UK | RSLondonSouthEast19 | Machine-Actionable Metadata Models: a toolbox including JSONLDSchema python module and JSONschema-documenter web application \n",
      " London, UK \n",
      " London, Greater London, England, UK \n",
      "\n",
      "\n",
      "{'London, UK | RSLondonSouthEast19 | Machine-Actionable Metadata Models: a toolbox including JSONLDSchema python module and JSONschema-documenter web application': Location(London, Greater London, England, UK, (51.4893335, -0.144055084527687, 0.0)), 'Hinxton, UK | EMBL-EBI | EBI Metagenomics Bioinfomatics Course': Location(Hinxton, Cambridgeshire, East of England, England, CB10 1RD, UK, (52.0848693, 0.1792608, 0.0))}\n",
      "Hinxton, UK | EMBL-EBI | EBI Metagenomics Bioinfomatics Course \n",
      " Hinxton, UK \n",
      " Hinxton, Cambridgeshire, East of England, England, CB10 1RD, UK \n",
      "\n",
      "\n",
      "{'London, UK | RSLondonSouthEast19 | Machine-Actionable Metadata Models: a toolbox including JSONLDSchema python module and JSONschema-documenter web application': Location(London, Greater London, England, UK, (51.4893335, -0.144055084527687, 0.0)), 'Hinxton, UK | EMBL-EBI | EBI Metagenomics Bioinfomatics Course': Location(Hinxton, Cambridgeshire, East of England, England, CB10 1RD, UK, (52.0848693, 0.1792608, 0.0)), 'Boston, MA, USA | Conference on Semantics in Healthcare and Life Sciences (CSHALS) | The ISA infrastructure for the biosciences: from data curation at source to the linked data cloud': Location(Boston, Suffolk County, Massachusetts, USA, (42.3602534, -71.0582912, 0.0))}\n",
      "Boston, MA, USA | Conference on Semantics in Healthcare and Life Sciences (CSHALS) | The ISA infrastructure for the biosciences: from data curation at source to the linked data cloud \n",
      " Boston, MA, USA \n",
      " Boston, Suffolk County, Massachusetts, USA \n",
      "\n",
      "\n",
      "{'London, UK | RSLondonSouthEast19 | Machine-Actionable Metadata Models: a toolbox including JSONLDSchema python module and JSONschema-documenter web application': Location(London, Greater London, England, UK, (51.4893335, -0.144055084527687, 0.0)), 'Hinxton, UK | EMBL-EBI | EBI Metagenomics Bioinfomatics Course': Location(Hinxton, Cambridgeshire, East of England, England, CB10 1RD, UK, (52.0848693, 0.1792608, 0.0)), 'Boston, MA, USA | Conference on Semantics in Healthcare and Life Sciences (CSHALS) | The ISA infrastructure for the biosciences: from data curation at source to the linked data cloud': Location(Boston, Suffolk County, Massachusetts, USA, (42.3602534, -71.0582912, 0.0)), 'Amsterdam, Netherlands | Beyond the PDF | Embedding underpinning mechanisms for data reuse and reproducibility in bioscience - The ISA examplar behind the PDF': Location(Amsterdam, Noord-Holland, Nederland, (52.3745403, 4.89797550561798, 0.0))}\n",
      "Amsterdam, Netherlands | Beyond the PDF | Embedding underpinning mechanisms for data reuse and reproducibility in bioscience - The ISA examplar behind the PDF \n",
      " Amsterdam, Netherlands \n",
      " Amsterdam, Noord-Holland, Nederland \n",
      "\n",
      "\n",
      "{'London, UK | RSLondonSouthEast19 | Machine-Actionable Metadata Models: a toolbox including JSONLDSchema python module and JSONschema-documenter web application': Location(London, Greater London, England, UK, (51.4893335, -0.144055084527687, 0.0)), 'Hinxton, UK | EMBL-EBI | EBI Metagenomics Bioinfomatics Course': Location(Hinxton, Cambridgeshire, East of England, England, CB10 1RD, UK, (52.0848693, 0.1792608, 0.0)), 'Boston, MA, USA | Conference on Semantics in Healthcare and Life Sciences (CSHALS) | The ISA infrastructure for the biosciences: from data curation at source to the linked data cloud': Location(Boston, Suffolk County, Massachusetts, USA, (42.3602534, -71.0582912, 0.0)), 'Amsterdam, Netherlands | Beyond the PDF | Embedding underpinning mechanisms for data reuse and reproducibility in bioscience - The ISA examplar behind the PDF': Location(Amsterdam, Noord-Holland, Nederland, (52.3745403, 4.89797550561798, 0.0)), 'Mainz, Germany | OpenTox Europe 2013 | The ISA infrastructure: from experimental planning to data publication and case studies in toxicology': Location(Mainz, Rheinland-Pfalz, 55116, Deutschland, (50.0012314, 8.2762513, 0.0))}\n",
      "Mainz, Germany | OpenTox Europe 2013 | The ISA infrastructure: from experimental planning to data publication and case studies in toxicology \n",
      " Mainz, Germany \n",
      " Mainz, Rheinland-Pfalz, 55116, Deutschland \n",
      "\n",
      "\n",
      "{'London, UK | RSLondonSouthEast19 | Machine-Actionable Metadata Models: a toolbox including JSONLDSchema python module and JSONschema-documenter web application': Location(London, Greater London, England, UK, (51.4893335, -0.144055084527687, 0.0)), 'Hinxton, UK | EMBL-EBI | EBI Metagenomics Bioinfomatics Course': Location(Hinxton, Cambridgeshire, East of England, England, CB10 1RD, UK, (52.0848693, 0.1792608, 0.0)), 'Boston, MA, USA | Conference on Semantics in Healthcare and Life Sciences (CSHALS) | The ISA infrastructure for the biosciences: from data curation at source to the linked data cloud': Location(Boston, Suffolk County, Massachusetts, USA, (42.3602534, -71.0582912, 0.0)), 'Amsterdam, Netherlands | Beyond the PDF | Embedding underpinning mechanisms for data reuse and reproducibility in bioscience - The ISA examplar behind the PDF': Location(Amsterdam, Noord-Holland, Nederland, (52.3745403, 4.89797550561798, 0.0)), 'Mainz, Germany | OpenTox Europe 2013 | The ISA infrastructure: from experimental planning to data publication and case studies in toxicology': Location(Mainz, Rheinland-Pfalz, 55116, Deutschland, (50.0012314, 8.2762513, 0.0)), 'Venice, Italy | NETTAB Workshop 2013 | Bio-GraphIIn: a graph-based, integrative and semantically-enabled repository for life science experimental data': Location(Venezia, VE, VEN, Italia, (45.4371908, 12.3345898, 0.0))}\n",
      "Venice, Italy | NETTAB Workshop 2013 | Bio-GraphIIn: a graph-based, integrative and semantically-enabled repository for life science experimental data \n",
      " Venice, Italy \n",
      " Venezia, VE, VEN, Italia \n",
      "\n",
      "\n",
      "{'London, UK | RSLondonSouthEast19 | Machine-Actionable Metadata Models: a toolbox including JSONLDSchema python module and JSONschema-documenter web application': Location(London, Greater London, England, UK, (51.4893335, -0.144055084527687, 0.0)), 'Hinxton, UK | EMBL-EBI | EBI Metagenomics Bioinfomatics Course': Location(Hinxton, Cambridgeshire, East of England, England, CB10 1RD, UK, (52.0848693, 0.1792608, 0.0)), 'Boston, MA, USA | Conference on Semantics in Healthcare and Life Sciences (CSHALS) | The ISA infrastructure for the biosciences: from data curation at source to the linked data cloud': Location(Boston, Suffolk County, Massachusetts, USA, (42.3602534, -71.0582912, 0.0)), 'Amsterdam, Netherlands | Beyond the PDF | Embedding underpinning mechanisms for data reuse and reproducibility in bioscience - The ISA examplar behind the PDF': Location(Amsterdam, Noord-Holland, Nederland, (52.3745403, 4.89797550561798, 0.0)), 'Mainz, Germany | OpenTox Europe 2013 | The ISA infrastructure: from experimental planning to data publication and case studies in toxicology': Location(Mainz, Rheinland-Pfalz, 55116, Deutschland, (50.0012314, 8.2762513, 0.0)), 'Venice, Italy | NETTAB Workshop 2013 | Bio-GraphIIn: a graph-based, integrative and semantically-enabled repository for life science experimental data': Location(Venezia, VE, VEN, Italia, (45.4371908, 12.3345898, 0.0)), 'Boston, USA | ISMB Workshop: What Bioinformatics need to know about digital publishing beyond the PDF | What was the plan? A role for data standards, models and computational workflows in scholarly data publishing': Location(Boston, Suffolk County, Massachusetts, USA, (42.3602534, -71.0582912, 0.0))}\n",
      "Boston, USA | ISMB Workshop: What Bioinformatics need to know about digital publishing beyond the PDF | What was the plan? A role for data standards, models and computational workflows in scholarly data publishing \n",
      " Boston, USA \n",
      " Boston, Suffolk County, Massachusetts, USA \n",
      "\n",
      "\n",
      "{'London, UK | RSLondonSouthEast19 | Machine-Actionable Metadata Models: a toolbox including JSONLDSchema python module and JSONschema-documenter web application': Location(London, Greater London, England, UK, (51.4893335, -0.144055084527687, 0.0)), 'Hinxton, UK | EMBL-EBI | EBI Metagenomics Bioinfomatics Course': Location(Hinxton, Cambridgeshire, East of England, England, CB10 1RD, UK, (52.0848693, 0.1792608, 0.0)), 'Boston, MA, USA | Conference on Semantics in Healthcare and Life Sciences (CSHALS) | The ISA infrastructure for the biosciences: from data curation at source to the linked data cloud': Location(Boston, Suffolk County, Massachusetts, USA, (42.3602534, -71.0582912, 0.0)), 'Amsterdam, Netherlands | Beyond the PDF | Embedding underpinning mechanisms for data reuse and reproducibility in bioscience - The ISA examplar behind the PDF': Location(Amsterdam, Noord-Holland, Nederland, (52.3745403, 4.89797550561798, 0.0)), 'Mainz, Germany | OpenTox Europe 2013 | The ISA infrastructure: from experimental planning to data publication and case studies in toxicology': Location(Mainz, Rheinland-Pfalz, 55116, Deutschland, (50.0012314, 8.2762513, 0.0)), 'Venice, Italy | NETTAB Workshop 2013 | Bio-GraphIIn: a graph-based, integrative and semantically-enabled repository for life science experimental data': Location(Venezia, VE, VEN, Italia, (45.4371908, 12.3345898, 0.0)), 'Boston, USA | ISMB Workshop: What Bioinformatics need to know about digital publishing beyond the PDF | What was the plan? A role for data standards, models and computational workflows in scholarly data publishing': Location(Boston, Suffolk County, Massachusetts, USA, (42.3602534, -71.0582912, 0.0)), 'Manchester, UK | Drug Discovery 2012 | Community-standards for reproducible and reusable research': Location(Manchester, Greater Manchester, North West England, England, UK, (53.4794892, -2.2451148, 0.0))}\n",
      "Manchester, UK | Drug Discovery 2012 | Community-standards for reproducible and reusable research \n",
      " Manchester, UK \n",
      " Manchester, Greater Manchester, North West England, England, UK \n",
      "\n",
      "\n",
      "{'London, UK | RSLondonSouthEast19 | Machine-Actionable Metadata Models: a toolbox including JSONLDSchema python module and JSONschema-documenter web application': Location(London, Greater London, England, UK, (51.4893335, -0.144055084527687, 0.0)), 'Hinxton, UK | EMBL-EBI | EBI Metagenomics Bioinfomatics Course': Location(Hinxton, Cambridgeshire, East of England, England, CB10 1RD, UK, (52.0848693, 0.1792608, 0.0)), 'Boston, MA, USA | Conference on Semantics in Healthcare and Life Sciences (CSHALS) | The ISA infrastructure for the biosciences: from data curation at source to the linked data cloud': Location(Boston, Suffolk County, Massachusetts, USA, (42.3602534, -71.0582912, 0.0)), 'Amsterdam, Netherlands | Beyond the PDF | Embedding underpinning mechanisms for data reuse and reproducibility in bioscience - The ISA examplar behind the PDF': Location(Amsterdam, Noord-Holland, Nederland, (52.3745403, 4.89797550561798, 0.0)), 'Mainz, Germany | OpenTox Europe 2013 | The ISA infrastructure: from experimental planning to data publication and case studies in toxicology': Location(Mainz, Rheinland-Pfalz, 55116, Deutschland, (50.0012314, 8.2762513, 0.0)), 'Venice, Italy | NETTAB Workshop 2013 | Bio-GraphIIn: a graph-based, integrative and semantically-enabled repository for life science experimental data': Location(Venezia, VE, VEN, Italia, (45.4371908, 12.3345898, 0.0)), 'Boston, USA | ISMB Workshop: What Bioinformatics need to know about digital publishing beyond the PDF | What was the plan? A role for data standards, models and computational workflows in scholarly data publishing': Location(Boston, Suffolk County, Massachusetts, USA, (42.3602534, -71.0582912, 0.0)), 'Manchester, UK | Drug Discovery 2012 | Community-standards for reproducible and reusable research': Location(Manchester, Greater Manchester, North West England, England, UK, (53.4794892, -2.2451148, 0.0)), 'Leiden, Netherlands | Inaugural Workshop Metadata for Machines (M4M) | Towards FAIR metadata standards': Location(Leiden, Zuid-Holland, Nederland, (52.1518157, 4.48110886662043, 0.0))}\n",
      "Leiden, Netherlands | Inaugural Workshop Metadata for Machines (M4M) | Towards FAIR metadata standards \n",
      " Leiden, Netherlands \n",
      " Leiden, Zuid-Holland, Nederland \n",
      "\n",
      "\n"
     ]
    }
   ],
   "source": [
    "for file in g:\n",
    "    data = frontmatter.load(file)\n",
    "    data_dict = data.to_dict()\n",
    "    location = data_dict['location']\n",
    "    if location[-4:] == \", CA\":\n",
    "        location = location[:-3] + \" California\"\n",
    "    \n",
    "    descript_name = location + \" | \" + data_dict['venue'] + \" | \" + data_dict['title']\n",
    "    location_dict[descript_name] = geocoder.geocode(location)\n",
    "    print(location_dict)\n",
    "    print(descript_name, \"\\n\", location, \"\\n\", location_dict[descript_name], \"\\n\\n\")\n"
   ]
  },
  {
   "cell_type": "code",
   "execution_count": 8,
   "metadata": {},
   "outputs": [
    {
     "data": {
      "text/plain": [
       "'Written map to talk_map/'"
      ]
     },
     "execution_count": 8,
     "metadata": {},
     "output_type": "execute_result"
    }
   ],
   "source": [
    "m = getorg.orgmap.create_map_obj()\n",
    "getorg.orgmap.output_html_cluster_map(location_dict, folder_name=\"talk_map\", hashed_usernames=False)"
   ]
  },
  {
   "cell_type": "code",
   "execution_count": null,
   "metadata": {
    "collapsed": true
   },
   "outputs": [],
   "source": []
  }
 ],
 "metadata": {
  "anaconda-cloud": {},
  "kernelspec": {
   "display_name": "Python 3",
   "language": "python",
   "name": "python3"
  },
  "language_info": {
   "codemirror_mode": {
    "name": "ipython",
    "version": 3
   },
   "file_extension": ".py",
   "mimetype": "text/x-python",
   "name": "python",
   "nbconvert_exporter": "python",
   "pygments_lexer": "ipython3",
   "version": "3.7.4"
  }
 },
 "nbformat": 4,
 "nbformat_minor": 1
}
